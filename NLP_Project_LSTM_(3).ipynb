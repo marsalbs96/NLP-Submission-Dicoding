{
  "nbformat": 4,
  "nbformat_minor": 0,
  "metadata": {
    "colab": {
      "name": "NLP_Project_LSTM (3).ipynb",
      "provenance": [],
      "collapsed_sections": []
    },
    "kernelspec": {
      "name": "python3",
      "display_name": "Python 3"
    },
    "language_info": {
      "name": "python"
    },
    "accelerator": "GPU"
  },
  "cells": [
    {
      "cell_type": "code",
      "metadata": {
        "id": "pXtlWikVW2xz",
        "colab": {
          "base_uri": "https://localhost:8080/"
        },
        "outputId": "bb60ea2e-53c7-4a80-f128-cbc1abffe69d"
      },
      "source": [
        "import pandas as pd\n",
        "import numpy as np\n",
        "import tensorflow as tf\n",
        "import matplotlib.pyplot as plt\n",
        "import string\n",
        "import regex as re\n",
        "import nltk as nltk\n",
        "from nltk import corpus\n",
        "from nltk.stem import PorterStemmer\n",
        "device_name= tf.test.gpu_device_name()\n",
        "if device_name != '/device:GPU:0':\n",
        "  raise SystemError('GPU device not found')\n",
        "print('Found GPU at: {}'.format(device_name))"
      ],
      "execution_count": 34,
      "outputs": [
        {
          "output_type": "stream",
          "text": [
            "Found GPU at: /device:GPU:0\n"
          ],
          "name": "stdout"
        }
      ]
    },
    {
      "cell_type": "code",
      "metadata": {
        "id": "JZdYIm4rYhNo"
      },
      "source": [
        "missing_values = [\"n/a\", \"na\", \"--\"]\n",
        "df_hotel = pd.read_csv('tripadvisor_hotel_reviews.csv', encoding='latin-1')"
      ],
      "execution_count": 44,
      "outputs": []
    },
    {
      "cell_type": "code",
      "metadata": {
        "id": "DIgX4aIupK2b",
        "colab": {
          "base_uri": "https://localhost:8080/"
        },
        "outputId": "947e788c-64b2-4f69-82ad-55463a3832e9"
      },
      "source": [
        "df_hotel.isna().sum()"
      ],
      "execution_count": 45,
      "outputs": [
        {
          "output_type": "execute_result",
          "data": {
            "text/plain": [
              "Review    0\n",
              "Rating    0\n",
              "dtype: int64"
            ]
          },
          "metadata": {
            "tags": []
          },
          "execution_count": 45
        }
      ]
    },
    {
      "cell_type": "code",
      "metadata": {
        "colab": {
          "base_uri": "https://localhost:8080/",
          "height": 417
        },
        "id": "AbonC8-6UzlN",
        "outputId": "5268fe55-e715-438b-fac6-cadaf6e39c06"
      },
      "source": [
        "df_hotel.head(3000)"
      ],
      "execution_count": 46,
      "outputs": [
        {
          "output_type": "execute_result",
          "data": {
            "text/html": [
              "<div>\n",
              "<style scoped>\n",
              "    .dataframe tbody tr th:only-of-type {\n",
              "        vertical-align: middle;\n",
              "    }\n",
              "\n",
              "    .dataframe tbody tr th {\n",
              "        vertical-align: top;\n",
              "    }\n",
              "\n",
              "    .dataframe thead th {\n",
              "        text-align: right;\n",
              "    }\n",
              "</style>\n",
              "<table border=\"1\" class=\"dataframe\">\n",
              "  <thead>\n",
              "    <tr style=\"text-align: right;\">\n",
              "      <th></th>\n",
              "      <th>Review</th>\n",
              "      <th>Rating</th>\n",
              "    </tr>\n",
              "  </thead>\n",
              "  <tbody>\n",
              "    <tr>\n",
              "      <th>0</th>\n",
              "      <td>nice hotel expensive parking got good deal sta...</td>\n",
              "      <td>4</td>\n",
              "    </tr>\n",
              "    <tr>\n",
              "      <th>1</th>\n",
              "      <td>ok nothing special charge diamond member hilto...</td>\n",
              "      <td>2</td>\n",
              "    </tr>\n",
              "    <tr>\n",
              "      <th>2</th>\n",
              "      <td>nice rooms not 4* experience hotel monaco seat...</td>\n",
              "      <td>3</td>\n",
              "    </tr>\n",
              "    <tr>\n",
              "      <th>3</th>\n",
              "      <td>unique, great stay, wonderful time hotel monac...</td>\n",
              "      <td>5</td>\n",
              "    </tr>\n",
              "    <tr>\n",
              "      <th>4</th>\n",
              "      <td>great stay great stay, went seahawk game aweso...</td>\n",
              "      <td>5</td>\n",
              "    </tr>\n",
              "    <tr>\n",
              "      <th>...</th>\n",
              "      <td>...</td>\n",
              "      <td>...</td>\n",
              "    </tr>\n",
              "    <tr>\n",
              "      <th>2995</th>\n",
              "      <td>not paid money trip won day/two night trip bav...</td>\n",
              "      <td>1</td>\n",
              "    </tr>\n",
              "    <tr>\n",
              "      <th>2996</th>\n",
              "      <td>save money mexico save money, spent week janua...</td>\n",
              "      <td>1</td>\n",
              "    </tr>\n",
              "    <tr>\n",
              "      <th>2997</th>\n",
              "      <td>good holiday husband princess march break, vip...</td>\n",
              "      <td>4</td>\n",
              "    </tr>\n",
              "    <tr>\n",
              "      <th>2998</th>\n",
              "      <td>not speak english just like share interested v...</td>\n",
              "      <td>2</td>\n",
              "    </tr>\n",
              "    <tr>\n",
              "      <th>2999</th>\n",
              "      <td>best trip yo man listen guys talk bad place be...</td>\n",
              "      <td>5</td>\n",
              "    </tr>\n",
              "  </tbody>\n",
              "</table>\n",
              "<p>3000 rows × 2 columns</p>\n",
              "</div>"
            ],
            "text/plain": [
              "                                                 Review  Rating\n",
              "0     nice hotel expensive parking got good deal sta...       4\n",
              "1     ok nothing special charge diamond member hilto...       2\n",
              "2     nice rooms not 4* experience hotel monaco seat...       3\n",
              "3     unique, great stay, wonderful time hotel monac...       5\n",
              "4     great stay great stay, went seahawk game aweso...       5\n",
              "...                                                 ...     ...\n",
              "2995  not paid money trip won day/two night trip bav...       1\n",
              "2996  save money mexico save money, spent week janua...       1\n",
              "2997  good holiday husband princess march break, vip...       4\n",
              "2998  not speak english just like share interested v...       2\n",
              "2999  best trip yo man listen guys talk bad place be...       5\n",
              "\n",
              "[3000 rows x 2 columns]"
            ]
          },
          "metadata": {
            "tags": []
          },
          "execution_count": 46
        }
      ]
    },
    {
      "cell_type": "code",
      "metadata": {
        "colab": {
          "base_uri": "https://localhost:8080/",
          "height": 417
        },
        "id": "V2Z1qx6kdRp5",
        "outputId": "3bf7572c-71f9-45c4-e0ae-4983966eb6c8"
      },
      "source": [
        "df_hotel.tail(5000)"
      ],
      "execution_count": 47,
      "outputs": [
        {
          "output_type": "execute_result",
          "data": {
            "text/html": [
              "<div>\n",
              "<style scoped>\n",
              "    .dataframe tbody tr th:only-of-type {\n",
              "        vertical-align: middle;\n",
              "    }\n",
              "\n",
              "    .dataframe tbody tr th {\n",
              "        vertical-align: top;\n",
              "    }\n",
              "\n",
              "    .dataframe thead th {\n",
              "        text-align: right;\n",
              "    }\n",
              "</style>\n",
              "<table border=\"1\" class=\"dataframe\">\n",
              "  <thead>\n",
              "    <tr style=\"text-align: right;\">\n",
              "      <th></th>\n",
              "      <th>Review</th>\n",
              "      <th>Rating</th>\n",
              "    </tr>\n",
              "  </thead>\n",
              "  <tbody>\n",
              "    <tr>\n",
              "      <th>15491</th>\n",
              "      <td>seasons not perfect stayed night service facil...</td>\n",
              "      <td>2</td>\n",
              "    </tr>\n",
              "    <tr>\n",
              "      <th>15492</th>\n",
              "      <td>not faulted, stayed christmas 2005 experience ...</td>\n",
              "      <td>5</td>\n",
              "    </tr>\n",
              "    <tr>\n",
              "      <th>15493</th>\n",
              "      <td>excellent hotel stayed 5 nights dec 26th, got ...</td>\n",
              "      <td>5</td>\n",
              "    </tr>\n",
              "    <tr>\n",
              "      <th>15494</th>\n",
              "      <td>rough stay not typical seasons experience hote...</td>\n",
              "      <td>2</td>\n",
              "    </tr>\n",
              "    <tr>\n",
              "      <th>15495</th>\n",
              "      <td>not asked better.. title says excellent time n...</td>\n",
              "      <td>5</td>\n",
              "    </tr>\n",
              "    <tr>\n",
              "      <th>...</th>\n",
              "      <td>...</td>\n",
              "      <td>...</td>\n",
              "    </tr>\n",
              "    <tr>\n",
              "      <th>20486</th>\n",
              "      <td>best kept secret 3rd time staying charm, not 5...</td>\n",
              "      <td>5</td>\n",
              "    </tr>\n",
              "    <tr>\n",
              "      <th>20487</th>\n",
              "      <td>great location price view hotel great quick pl...</td>\n",
              "      <td>4</td>\n",
              "    </tr>\n",
              "    <tr>\n",
              "      <th>20488</th>\n",
              "      <td>ok just looks nice modern outside, desk staff ...</td>\n",
              "      <td>2</td>\n",
              "    </tr>\n",
              "    <tr>\n",
              "      <th>20489</th>\n",
              "      <td>hotel theft ruined vacation hotel opened sept ...</td>\n",
              "      <td>1</td>\n",
              "    </tr>\n",
              "    <tr>\n",
              "      <th>20490</th>\n",
              "      <td>people talking, ca n't believe excellent ratin...</td>\n",
              "      <td>2</td>\n",
              "    </tr>\n",
              "  </tbody>\n",
              "</table>\n",
              "<p>5000 rows × 2 columns</p>\n",
              "</div>"
            ],
            "text/plain": [
              "                                                  Review  Rating\n",
              "15491  seasons not perfect stayed night service facil...       2\n",
              "15492  not faulted, stayed christmas 2005 experience ...       5\n",
              "15493  excellent hotel stayed 5 nights dec 26th, got ...       5\n",
              "15494  rough stay not typical seasons experience hote...       2\n",
              "15495  not asked better.. title says excellent time n...       5\n",
              "...                                                  ...     ...\n",
              "20486  best kept secret 3rd time staying charm, not 5...       5\n",
              "20487  great location price view hotel great quick pl...       4\n",
              "20488  ok just looks nice modern outside, desk staff ...       2\n",
              "20489  hotel theft ruined vacation hotel opened sept ...       1\n",
              "20490  people talking, ca n't believe excellent ratin...       2\n",
              "\n",
              "[5000 rows x 2 columns]"
            ]
          },
          "metadata": {
            "tags": []
          },
          "execution_count": 47
        }
      ]
    },
    {
      "cell_type": "code",
      "metadata": {
        "colab": {
          "base_uri": "https://localhost:8080/",
          "height": 417
        },
        "id": "DQp4JwkcsVi0",
        "outputId": "2ab3d888-f470-4692-be4e-c799038b81ce"
      },
      "source": [
        "def tokenize(text):\n",
        "    split=re.split(\"\\W+\",text) \n",
        "    return split\n",
        "df_hotel['review_text_split']=df_hotel['Review'].apply(lambda x: tokenize(x.lower()))\n",
        "df_hotel.head(100)"
      ],
      "execution_count": 48,
      "outputs": [
        {
          "output_type": "execute_result",
          "data": {
            "text/html": [
              "<div>\n",
              "<style scoped>\n",
              "    .dataframe tbody tr th:only-of-type {\n",
              "        vertical-align: middle;\n",
              "    }\n",
              "\n",
              "    .dataframe tbody tr th {\n",
              "        vertical-align: top;\n",
              "    }\n",
              "\n",
              "    .dataframe thead th {\n",
              "        text-align: right;\n",
              "    }\n",
              "</style>\n",
              "<table border=\"1\" class=\"dataframe\">\n",
              "  <thead>\n",
              "    <tr style=\"text-align: right;\">\n",
              "      <th></th>\n",
              "      <th>Review</th>\n",
              "      <th>Rating</th>\n",
              "      <th>review_text_split</th>\n",
              "    </tr>\n",
              "  </thead>\n",
              "  <tbody>\n",
              "    <tr>\n",
              "      <th>0</th>\n",
              "      <td>nice hotel expensive parking got good deal sta...</td>\n",
              "      <td>4</td>\n",
              "      <td>[nice, hotel, expensive, parking, got, good, d...</td>\n",
              "    </tr>\n",
              "    <tr>\n",
              "      <th>1</th>\n",
              "      <td>ok nothing special charge diamond member hilto...</td>\n",
              "      <td>2</td>\n",
              "      <td>[ok, nothing, special, charge, diamond, member...</td>\n",
              "    </tr>\n",
              "    <tr>\n",
              "      <th>2</th>\n",
              "      <td>nice rooms not 4* experience hotel monaco seat...</td>\n",
              "      <td>3</td>\n",
              "      <td>[nice, rooms, not, 4, experience, hotel, monac...</td>\n",
              "    </tr>\n",
              "    <tr>\n",
              "      <th>3</th>\n",
              "      <td>unique, great stay, wonderful time hotel monac...</td>\n",
              "      <td>5</td>\n",
              "      <td>[unique, great, stay, wonderful, time, hotel, ...</td>\n",
              "    </tr>\n",
              "    <tr>\n",
              "      <th>4</th>\n",
              "      <td>great stay great stay, went seahawk game aweso...</td>\n",
              "      <td>5</td>\n",
              "      <td>[great, stay, great, stay, went, seahawk, game...</td>\n",
              "    </tr>\n",
              "    <tr>\n",
              "      <th>...</th>\n",
              "      <td>...</td>\n",
              "      <td>...</td>\n",
              "      <td>...</td>\n",
              "    </tr>\n",
              "    <tr>\n",
              "      <th>95</th>\n",
              "      <td>excellent stay staff friendly helpful, nice ho...</td>\n",
              "      <td>4</td>\n",
              "      <td>[excellent, stay, staff, friendly, helpful, ni...</td>\n",
              "    </tr>\n",
              "    <tr>\n",
              "      <th>96</th>\n",
              "      <td>return going seattle booked hotel knowing budg...</td>\n",
              "      <td>4</td>\n",
              "      <td>[return, going, seattle, booked, hotel, knowin...</td>\n",
              "    </tr>\n",
              "    <tr>\n",
              "      <th>97</th>\n",
              "      <td>terrible hotel approximately 2 weeks ago april...</td>\n",
              "      <td>1</td>\n",
              "      <td>[terrible, hotel, approximately, 2, weeks, ago...</td>\n",
              "    </tr>\n",
              "    <tr>\n",
              "      <th>98</th>\n",
              "      <td>great price okay experience stayed inn queen a...</td>\n",
              "      <td>3</td>\n",
              "      <td>[great, price, okay, experience, stayed, inn, ...</td>\n",
              "    </tr>\n",
              "    <tr>\n",
              "      <th>99</th>\n",
              "      <td>old dumpy place problems head starts spinning ...</td>\n",
              "      <td>1</td>\n",
              "      <td>[old, dumpy, place, problems, head, starts, sp...</td>\n",
              "    </tr>\n",
              "  </tbody>\n",
              "</table>\n",
              "<p>100 rows × 3 columns</p>\n",
              "</div>"
            ],
            "text/plain": [
              "                                               Review  ...                                  review_text_split\n",
              "0   nice hotel expensive parking got good deal sta...  ...  [nice, hotel, expensive, parking, got, good, d...\n",
              "1   ok nothing special charge diamond member hilto...  ...  [ok, nothing, special, charge, diamond, member...\n",
              "2   nice rooms not 4* experience hotel monaco seat...  ...  [nice, rooms, not, 4, experience, hotel, monac...\n",
              "3   unique, great stay, wonderful time hotel monac...  ...  [unique, great, stay, wonderful, time, hotel, ...\n",
              "4   great stay great stay, went seahawk game aweso...  ...  [great, stay, great, stay, went, seahawk, game...\n",
              "..                                                ...  ...                                                ...\n",
              "95  excellent stay staff friendly helpful, nice ho...  ...  [excellent, stay, staff, friendly, helpful, ni...\n",
              "96  return going seattle booked hotel knowing budg...  ...  [return, going, seattle, booked, hotel, knowin...\n",
              "97  terrible hotel approximately 2 weeks ago april...  ...  [terrible, hotel, approximately, 2, weeks, ago...\n",
              "98  great price okay experience stayed inn queen a...  ...  [great, price, okay, experience, stayed, inn, ...\n",
              "99  old dumpy place problems head starts spinning ...  ...  [old, dumpy, place, problems, head, starts, sp...\n",
              "\n",
              "[100 rows x 3 columns]"
            ]
          },
          "metadata": {
            "tags": []
          },
          "execution_count": 48
        }
      ]
    },
    {
      "cell_type": "code",
      "metadata": {
        "colab": {
          "base_uri": "https://localhost:8080/"
        },
        "id": "ha41YydXqkcD",
        "outputId": "e25f90e0-6618-4bec-a286-ae2a2d33c192"
      },
      "source": [
        "nltk.download('stopwords')\n",
        "stopword = nltk.corpus.stopwords.words('english')\n",
        "print(stopword[:20])"
      ],
      "execution_count": 49,
      "outputs": [
        {
          "output_type": "stream",
          "text": [
            "[nltk_data] Downloading package stopwords to /root/nltk_data...\n",
            "[nltk_data]   Package stopwords is already up-to-date!\n",
            "['i', 'me', 'my', 'myself', 'we', 'our', 'ours', 'ourselves', 'you', \"you're\", \"you've\", \"you'll\", \"you'd\", 'your', 'yours', 'yourself', 'yourselves', 'he', 'him', 'his']\n"
          ],
          "name": "stdout"
        }
      ]
    },
    {
      "cell_type": "code",
      "metadata": {
        "colab": {
          "base_uri": "https://localhost:8080/",
          "height": 417
        },
        "id": "aatU4eJfrSyn",
        "outputId": "733bf827-f3ff-4af7-c71e-1b1566b2d916"
      },
      "source": [
        "def remove_stopwords(text):\n",
        "    text=[word for word in text if word not in stopword]\n",
        "    return text\n",
        "df_hotel['review_text_stopwords'] = df_hotel['review_text_split'].apply(lambda x: remove_stopwords(x))\n",
        "df_hotel.head(1000)"
      ],
      "execution_count": 50,
      "outputs": [
        {
          "output_type": "execute_result",
          "data": {
            "text/html": [
              "<div>\n",
              "<style scoped>\n",
              "    .dataframe tbody tr th:only-of-type {\n",
              "        vertical-align: middle;\n",
              "    }\n",
              "\n",
              "    .dataframe tbody tr th {\n",
              "        vertical-align: top;\n",
              "    }\n",
              "\n",
              "    .dataframe thead th {\n",
              "        text-align: right;\n",
              "    }\n",
              "</style>\n",
              "<table border=\"1\" class=\"dataframe\">\n",
              "  <thead>\n",
              "    <tr style=\"text-align: right;\">\n",
              "      <th></th>\n",
              "      <th>Review</th>\n",
              "      <th>Rating</th>\n",
              "      <th>review_text_split</th>\n",
              "      <th>review_text_stopwords</th>\n",
              "    </tr>\n",
              "  </thead>\n",
              "  <tbody>\n",
              "    <tr>\n",
              "      <th>0</th>\n",
              "      <td>nice hotel expensive parking got good deal sta...</td>\n",
              "      <td>4</td>\n",
              "      <td>[nice, hotel, expensive, parking, got, good, d...</td>\n",
              "      <td>[nice, hotel, expensive, parking, got, good, d...</td>\n",
              "    </tr>\n",
              "    <tr>\n",
              "      <th>1</th>\n",
              "      <td>ok nothing special charge diamond member hilto...</td>\n",
              "      <td>2</td>\n",
              "      <td>[ok, nothing, special, charge, diamond, member...</td>\n",
              "      <td>[ok, nothing, special, charge, diamond, member...</td>\n",
              "    </tr>\n",
              "    <tr>\n",
              "      <th>2</th>\n",
              "      <td>nice rooms not 4* experience hotel monaco seat...</td>\n",
              "      <td>3</td>\n",
              "      <td>[nice, rooms, not, 4, experience, hotel, monac...</td>\n",
              "      <td>[nice, rooms, 4, experience, hotel, monaco, se...</td>\n",
              "    </tr>\n",
              "    <tr>\n",
              "      <th>3</th>\n",
              "      <td>unique, great stay, wonderful time hotel monac...</td>\n",
              "      <td>5</td>\n",
              "      <td>[unique, great, stay, wonderful, time, hotel, ...</td>\n",
              "      <td>[unique, great, stay, wonderful, time, hotel, ...</td>\n",
              "    </tr>\n",
              "    <tr>\n",
              "      <th>4</th>\n",
              "      <td>great stay great stay, went seahawk game aweso...</td>\n",
              "      <td>5</td>\n",
              "      <td>[great, stay, great, stay, went, seahawk, game...</td>\n",
              "      <td>[great, stay, great, stay, went, seahawk, game...</td>\n",
              "    </tr>\n",
              "    <tr>\n",
              "      <th>...</th>\n",
              "      <td>...</td>\n",
              "      <td>...</td>\n",
              "      <td>...</td>\n",
              "      <td>...</td>\n",
              "    </tr>\n",
              "    <tr>\n",
              "      <th>995</th>\n",
              "      <td>average price hotel good location 1.5 blocks u...</td>\n",
              "      <td>3</td>\n",
              "      <td>[average, price, hotel, good, location, 1, 5, ...</td>\n",
              "      <td>[average, price, hotel, good, location, 1, 5, ...</td>\n",
              "    </tr>\n",
              "    <tr>\n",
              "      <th>996</th>\n",
              "      <td>good customer service recently wrote dissatisf...</td>\n",
              "      <td>4</td>\n",
              "      <td>[good, customer, service, recently, wrote, dis...</td>\n",
              "      <td>[good, customer, service, recently, wrote, dis...</td>\n",
              "    </tr>\n",
              "    <tr>\n",
              "      <th>997</th>\n",
              "      <td>ignore bad press just post review reading nega...</td>\n",
              "      <td>4</td>\n",
              "      <td>[ignore, bad, press, just, post, review, readi...</td>\n",
              "      <td>[ignore, bad, press, post, review, reading, ne...</td>\n",
              "    </tr>\n",
              "    <tr>\n",
              "      <th>998</th>\n",
              "      <td>business trip ok hotel fine evening business, ...</td>\n",
              "      <td>3</td>\n",
              "      <td>[business, trip, ok, hotel, fine, evening, bus...</td>\n",
              "      <td>[business, trip, ok, hotel, fine, evening, bus...</td>\n",
              "    </tr>\n",
              "    <tr>\n",
              "      <th>999</th>\n",
              "      <td>okay downstairs medicore room overrated overpr...</td>\n",
              "      <td>3</td>\n",
              "      <td>[okay, downstairs, medicore, room, overrated, ...</td>\n",
              "      <td>[okay, downstairs, medicore, room, overrated, ...</td>\n",
              "    </tr>\n",
              "  </tbody>\n",
              "</table>\n",
              "<p>1000 rows × 4 columns</p>\n",
              "</div>"
            ],
            "text/plain": [
              "                                                Review  ...                              review_text_stopwords\n",
              "0    nice hotel expensive parking got good deal sta...  ...  [nice, hotel, expensive, parking, got, good, d...\n",
              "1    ok nothing special charge diamond member hilto...  ...  [ok, nothing, special, charge, diamond, member...\n",
              "2    nice rooms not 4* experience hotel monaco seat...  ...  [nice, rooms, 4, experience, hotel, monaco, se...\n",
              "3    unique, great stay, wonderful time hotel monac...  ...  [unique, great, stay, wonderful, time, hotel, ...\n",
              "4    great stay great stay, went seahawk game aweso...  ...  [great, stay, great, stay, went, seahawk, game...\n",
              "..                                                 ...  ...                                                ...\n",
              "995  average price hotel good location 1.5 blocks u...  ...  [average, price, hotel, good, location, 1, 5, ...\n",
              "996  good customer service recently wrote dissatisf...  ...  [good, customer, service, recently, wrote, dis...\n",
              "997  ignore bad press just post review reading nega...  ...  [ignore, bad, press, post, review, reading, ne...\n",
              "998  business trip ok hotel fine evening business, ...  ...  [business, trip, ok, hotel, fine, evening, bus...\n",
              "999  okay downstairs medicore room overrated overpr...  ...  [okay, downstairs, medicore, room, overrated, ...\n",
              "\n",
              "[1000 rows x 4 columns]"
            ]
          },
          "metadata": {
            "tags": []
          },
          "execution_count": 50
        }
      ]
    },
    {
      "cell_type": "code",
      "metadata": {
        "id": "P1GkYCV960vT"
      },
      "source": [
        "stemmer = nltk.stem.SnowballStemmer(language='english')\n",
        "def stem_list(row):\n",
        "    my_list = row['review_text_stopwords']\n",
        "    stemmed_list = [stemmer.stem(word) for word in my_list]\n",
        "    return (stemmed_list)\n",
        "\n",
        "df_hotel['stemmed_review'] = df_hotel.apply(stem_list, axis=1)"
      ],
      "execution_count": 51,
      "outputs": []
    },
    {
      "cell_type": "code",
      "metadata": {
        "id": "H0x0cWg_-Ftk",
        "colab": {
          "base_uri": "https://localhost:8080/",
          "height": 585
        },
        "outputId": "51c9a902-48a5-499b-9661-c84a78c23e04"
      },
      "source": [
        "df_hotel.head(1000)"
      ],
      "execution_count": 52,
      "outputs": [
        {
          "output_type": "execute_result",
          "data": {
            "text/html": [
              "<div>\n",
              "<style scoped>\n",
              "    .dataframe tbody tr th:only-of-type {\n",
              "        vertical-align: middle;\n",
              "    }\n",
              "\n",
              "    .dataframe tbody tr th {\n",
              "        vertical-align: top;\n",
              "    }\n",
              "\n",
              "    .dataframe thead th {\n",
              "        text-align: right;\n",
              "    }\n",
              "</style>\n",
              "<table border=\"1\" class=\"dataframe\">\n",
              "  <thead>\n",
              "    <tr style=\"text-align: right;\">\n",
              "      <th></th>\n",
              "      <th>Review</th>\n",
              "      <th>Rating</th>\n",
              "      <th>review_text_split</th>\n",
              "      <th>review_text_stopwords</th>\n",
              "      <th>stemmed_review</th>\n",
              "    </tr>\n",
              "  </thead>\n",
              "  <tbody>\n",
              "    <tr>\n",
              "      <th>0</th>\n",
              "      <td>nice hotel expensive parking got good deal sta...</td>\n",
              "      <td>4</td>\n",
              "      <td>[nice, hotel, expensive, parking, got, good, d...</td>\n",
              "      <td>[nice, hotel, expensive, parking, got, good, d...</td>\n",
              "      <td>[nice, hotel, expens, park, got, good, deal, s...</td>\n",
              "    </tr>\n",
              "    <tr>\n",
              "      <th>1</th>\n",
              "      <td>ok nothing special charge diamond member hilto...</td>\n",
              "      <td>2</td>\n",
              "      <td>[ok, nothing, special, charge, diamond, member...</td>\n",
              "      <td>[ok, nothing, special, charge, diamond, member...</td>\n",
              "      <td>[ok, noth, special, charg, diamond, member, hi...</td>\n",
              "    </tr>\n",
              "    <tr>\n",
              "      <th>2</th>\n",
              "      <td>nice rooms not 4* experience hotel monaco seat...</td>\n",
              "      <td>3</td>\n",
              "      <td>[nice, rooms, not, 4, experience, hotel, monac...</td>\n",
              "      <td>[nice, rooms, 4, experience, hotel, monaco, se...</td>\n",
              "      <td>[nice, room, 4, experi, hotel, monaco, seattl,...</td>\n",
              "    </tr>\n",
              "    <tr>\n",
              "      <th>3</th>\n",
              "      <td>unique, great stay, wonderful time hotel monac...</td>\n",
              "      <td>5</td>\n",
              "      <td>[unique, great, stay, wonderful, time, hotel, ...</td>\n",
              "      <td>[unique, great, stay, wonderful, time, hotel, ...</td>\n",
              "      <td>[uniqu, great, stay, wonder, time, hotel, mona...</td>\n",
              "    </tr>\n",
              "    <tr>\n",
              "      <th>4</th>\n",
              "      <td>great stay great stay, went seahawk game aweso...</td>\n",
              "      <td>5</td>\n",
              "      <td>[great, stay, great, stay, went, seahawk, game...</td>\n",
              "      <td>[great, stay, great, stay, went, seahawk, game...</td>\n",
              "      <td>[great, stay, great, stay, went, seahawk, game...</td>\n",
              "    </tr>\n",
              "    <tr>\n",
              "      <th>...</th>\n",
              "      <td>...</td>\n",
              "      <td>...</td>\n",
              "      <td>...</td>\n",
              "      <td>...</td>\n",
              "      <td>...</td>\n",
              "    </tr>\n",
              "    <tr>\n",
              "      <th>995</th>\n",
              "      <td>average price hotel good location 1.5 blocks u...</td>\n",
              "      <td>3</td>\n",
              "      <td>[average, price, hotel, good, location, 1, 5, ...</td>\n",
              "      <td>[average, price, hotel, good, location, 1, 5, ...</td>\n",
              "      <td>[averag, price, hotel, good, locat, 1, 5, bloc...</td>\n",
              "    </tr>\n",
              "    <tr>\n",
              "      <th>996</th>\n",
              "      <td>good customer service recently wrote dissatisf...</td>\n",
              "      <td>4</td>\n",
              "      <td>[good, customer, service, recently, wrote, dis...</td>\n",
              "      <td>[good, customer, service, recently, wrote, dis...</td>\n",
              "      <td>[good, custom, servic, recent, wrote, dissatis...</td>\n",
              "    </tr>\n",
              "    <tr>\n",
              "      <th>997</th>\n",
              "      <td>ignore bad press just post review reading nega...</td>\n",
              "      <td>4</td>\n",
              "      <td>[ignore, bad, press, just, post, review, readi...</td>\n",
              "      <td>[ignore, bad, press, post, review, reading, ne...</td>\n",
              "      <td>[ignor, bad, press, post, review, read, negat,...</td>\n",
              "    </tr>\n",
              "    <tr>\n",
              "      <th>998</th>\n",
              "      <td>business trip ok hotel fine evening business, ...</td>\n",
              "      <td>3</td>\n",
              "      <td>[business, trip, ok, hotel, fine, evening, bus...</td>\n",
              "      <td>[business, trip, ok, hotel, fine, evening, bus...</td>\n",
              "      <td>[busi, trip, ok, hotel, fine, even, busi, matt...</td>\n",
              "    </tr>\n",
              "    <tr>\n",
              "      <th>999</th>\n",
              "      <td>okay downstairs medicore room overrated overpr...</td>\n",
              "      <td>3</td>\n",
              "      <td>[okay, downstairs, medicore, room, overrated, ...</td>\n",
              "      <td>[okay, downstairs, medicore, room, overrated, ...</td>\n",
              "      <td>[okay, downstair, medicor, room, overr, overpr...</td>\n",
              "    </tr>\n",
              "  </tbody>\n",
              "</table>\n",
              "<p>1000 rows × 5 columns</p>\n",
              "</div>"
            ],
            "text/plain": [
              "                                                Review  ...                                     stemmed_review\n",
              "0    nice hotel expensive parking got good deal sta...  ...  [nice, hotel, expens, park, got, good, deal, s...\n",
              "1    ok nothing special charge diamond member hilto...  ...  [ok, noth, special, charg, diamond, member, hi...\n",
              "2    nice rooms not 4* experience hotel monaco seat...  ...  [nice, room, 4, experi, hotel, monaco, seattl,...\n",
              "3    unique, great stay, wonderful time hotel monac...  ...  [uniqu, great, stay, wonder, time, hotel, mona...\n",
              "4    great stay great stay, went seahawk game aweso...  ...  [great, stay, great, stay, went, seahawk, game...\n",
              "..                                                 ...  ...                                                ...\n",
              "995  average price hotel good location 1.5 blocks u...  ...  [averag, price, hotel, good, locat, 1, 5, bloc...\n",
              "996  good customer service recently wrote dissatisf...  ...  [good, custom, servic, recent, wrote, dissatis...\n",
              "997  ignore bad press just post review reading nega...  ...  [ignor, bad, press, post, review, read, negat,...\n",
              "998  business trip ok hotel fine evening business, ...  ...  [busi, trip, ok, hotel, fine, even, busi, matt...\n",
              "999  okay downstairs medicore room overrated overpr...  ...  [okay, downstair, medicor, room, overr, overpr...\n",
              "\n",
              "[1000 rows x 5 columns]"
            ]
          },
          "metadata": {
            "tags": []
          },
          "execution_count": 52
        }
      ]
    },
    {
      "cell_type": "code",
      "metadata": {
        "id": "zBOA2mOk-IK-",
        "colab": {
          "base_uri": "https://localhost:8080/",
          "height": 585
        },
        "outputId": "bd42973f-1723-4bcd-b34d-c30868691f2a"
      },
      "source": [
        "df_hotel.tail(1000)"
      ],
      "execution_count": 53,
      "outputs": [
        {
          "output_type": "execute_result",
          "data": {
            "text/html": [
              "<div>\n",
              "<style scoped>\n",
              "    .dataframe tbody tr th:only-of-type {\n",
              "        vertical-align: middle;\n",
              "    }\n",
              "\n",
              "    .dataframe tbody tr th {\n",
              "        vertical-align: top;\n",
              "    }\n",
              "\n",
              "    .dataframe thead th {\n",
              "        text-align: right;\n",
              "    }\n",
              "</style>\n",
              "<table border=\"1\" class=\"dataframe\">\n",
              "  <thead>\n",
              "    <tr style=\"text-align: right;\">\n",
              "      <th></th>\n",
              "      <th>Review</th>\n",
              "      <th>Rating</th>\n",
              "      <th>review_text_split</th>\n",
              "      <th>review_text_stopwords</th>\n",
              "      <th>stemmed_review</th>\n",
              "    </tr>\n",
              "  </thead>\n",
              "  <tbody>\n",
              "    <tr>\n",
              "      <th>19491</th>\n",
              "      <td>mixed reviews accurate just returned week stay...</td>\n",
              "      <td>3</td>\n",
              "      <td>[mixed, reviews, accurate, just, returned, wee...</td>\n",
              "      <td>[mixed, reviews, accurate, returned, week, sta...</td>\n",
              "      <td>[mix, review, accur, return, week, stay, riu, ...</td>\n",
              "    </tr>\n",
              "    <tr>\n",
              "      <th>19492</th>\n",
              "      <td>true paradise just came dream vacation, excell...</td>\n",
              "      <td>5</td>\n",
              "      <td>[true, paradise, just, came, dream, vacation, ...</td>\n",
              "      <td>[true, paradise, came, dream, vacation, excell...</td>\n",
              "      <td>[true, paradis, came, dream, vacat, excel, beg...</td>\n",
              "    </tr>\n",
              "    <tr>\n",
              "      <th>19493</th>\n",
              "      <td>absolutely wonderful happy resort recommend, r...</td>\n",
              "      <td>5</td>\n",
              "      <td>[absolutely, wonderful, happy, resort, recomme...</td>\n",
              "      <td>[absolutely, wonderful, happy, resort, recomme...</td>\n",
              "      <td>[absolut, wonder, happi, resort, recommend, re...</td>\n",
              "    </tr>\n",
              "    <tr>\n",
              "      <th>19494</th>\n",
              "      <td>4 days paradise food drink sun poker returned ...</td>\n",
              "      <td>4</td>\n",
              "      <td>[4, days, paradise, food, drink, sun, poker, r...</td>\n",
              "      <td>[4, days, paradise, food, drink, sun, poker, r...</td>\n",
              "      <td>[4, day, paradis, food, drink, sun, poker, ret...</td>\n",
              "    </tr>\n",
              "    <tr>\n",
              "      <th>19495</th>\n",
              "      <td>enjoyed palace home week following wonderful h...</td>\n",
              "      <td>4</td>\n",
              "      <td>[enjoyed, palace, home, week, following, wonde...</td>\n",
              "      <td>[enjoyed, palace, home, week, following, wonde...</td>\n",
              "      <td>[enjoy, palac, home, week, follow, wonder, hol...</td>\n",
              "    </tr>\n",
              "    <tr>\n",
              "      <th>...</th>\n",
              "      <td>...</td>\n",
              "      <td>...</td>\n",
              "      <td>...</td>\n",
              "      <td>...</td>\n",
              "      <td>...</td>\n",
              "    </tr>\n",
              "    <tr>\n",
              "      <th>20486</th>\n",
              "      <td>best kept secret 3rd time staying charm, not 5...</td>\n",
              "      <td>5</td>\n",
              "      <td>[best, kept, secret, 3rd, time, staying, charm...</td>\n",
              "      <td>[best, kept, secret, 3rd, time, staying, charm...</td>\n",
              "      <td>[best, kept, secret, 3rd, time, stay, charm, 5...</td>\n",
              "    </tr>\n",
              "    <tr>\n",
              "      <th>20487</th>\n",
              "      <td>great location price view hotel great quick pl...</td>\n",
              "      <td>4</td>\n",
              "      <td>[great, location, price, view, hotel, great, q...</td>\n",
              "      <td>[great, location, price, view, hotel, great, q...</td>\n",
              "      <td>[great, locat, price, view, hotel, great, quic...</td>\n",
              "    </tr>\n",
              "    <tr>\n",
              "      <th>20488</th>\n",
              "      <td>ok just looks nice modern outside, desk staff ...</td>\n",
              "      <td>2</td>\n",
              "      <td>[ok, just, looks, nice, modern, outside, desk,...</td>\n",
              "      <td>[ok, looks, nice, modern, outside, desk, staff...</td>\n",
              "      <td>[ok, look, nice, modern, outsid, desk, staff, ...</td>\n",
              "    </tr>\n",
              "    <tr>\n",
              "      <th>20489</th>\n",
              "      <td>hotel theft ruined vacation hotel opened sept ...</td>\n",
              "      <td>1</td>\n",
              "      <td>[hotel, theft, ruined, vacation, hotel, opened...</td>\n",
              "      <td>[hotel, theft, ruined, vacation, hotel, opened...</td>\n",
              "      <td>[hotel, theft, ruin, vacat, hotel, open, sept,...</td>\n",
              "    </tr>\n",
              "    <tr>\n",
              "      <th>20490</th>\n",
              "      <td>people talking, ca n't believe excellent ratin...</td>\n",
              "      <td>2</td>\n",
              "      <td>[people, talking, ca, n, t, believe, excellent...</td>\n",
              "      <td>[people, talking, ca, n, believe, excellent, r...</td>\n",
              "      <td>[peopl, talk, ca, n, believ, excel, rate, hote...</td>\n",
              "    </tr>\n",
              "  </tbody>\n",
              "</table>\n",
              "<p>1000 rows × 5 columns</p>\n",
              "</div>"
            ],
            "text/plain": [
              "                                                  Review  ...                                     stemmed_review\n",
              "19491  mixed reviews accurate just returned week stay...  ...  [mix, review, accur, return, week, stay, riu, ...\n",
              "19492  true paradise just came dream vacation, excell...  ...  [true, paradis, came, dream, vacat, excel, beg...\n",
              "19493  absolutely wonderful happy resort recommend, r...  ...  [absolut, wonder, happi, resort, recommend, re...\n",
              "19494  4 days paradise food drink sun poker returned ...  ...  [4, day, paradis, food, drink, sun, poker, ret...\n",
              "19495  enjoyed palace home week following wonderful h...  ...  [enjoy, palac, home, week, follow, wonder, hol...\n",
              "...                                                  ...  ...                                                ...\n",
              "20486  best kept secret 3rd time staying charm, not 5...  ...  [best, kept, secret, 3rd, time, stay, charm, 5...\n",
              "20487  great location price view hotel great quick pl...  ...  [great, locat, price, view, hotel, great, quic...\n",
              "20488  ok just looks nice modern outside, desk staff ...  ...  [ok, look, nice, modern, outsid, desk, staff, ...\n",
              "20489  hotel theft ruined vacation hotel opened sept ...  ...  [hotel, theft, ruin, vacat, hotel, open, sept,...\n",
              "20490  people talking, ca n't believe excellent ratin...  ...  [peopl, talk, ca, n, believ, excel, rate, hote...\n",
              "\n",
              "[1000 rows x 5 columns]"
            ]
          },
          "metadata": {
            "tags": []
          },
          "execution_count": 53
        }
      ]
    },
    {
      "cell_type": "code",
      "metadata": {
        "id": "THCbUAyW_VKb"
      },
      "source": [
        "def rating_group(rate):\n",
        "    group = rate['Rating']\n",
        "    if rate['Rating'] > 3:\n",
        "        grouped_rate = 'Good'\n",
        "    elif rate['Rating'] == 3:\n",
        "        grouped_rate = 'Neutral'\n",
        "    elif rate['Rating'] < 3:\n",
        "        grouped_rate = 'Bad'\n",
        "    return (grouped_rate)\n",
        "\n",
        "df_hotel['new_rating'] = df_hotel.apply(rating_group, axis=1)"
      ],
      "execution_count": 54,
      "outputs": []
    },
    {
      "cell_type": "code",
      "metadata": {
        "colab": {
          "base_uri": "https://localhost:8080/",
          "height": 585
        },
        "id": "aJsNWDD-AuMp",
        "outputId": "b917435f-d849-4e19-c31e-da8cb785d9f7"
      },
      "source": [
        "df_hotel.head(1000)"
      ],
      "execution_count": 55,
      "outputs": [
        {
          "output_type": "execute_result",
          "data": {
            "text/html": [
              "<div>\n",
              "<style scoped>\n",
              "    .dataframe tbody tr th:only-of-type {\n",
              "        vertical-align: middle;\n",
              "    }\n",
              "\n",
              "    .dataframe tbody tr th {\n",
              "        vertical-align: top;\n",
              "    }\n",
              "\n",
              "    .dataframe thead th {\n",
              "        text-align: right;\n",
              "    }\n",
              "</style>\n",
              "<table border=\"1\" class=\"dataframe\">\n",
              "  <thead>\n",
              "    <tr style=\"text-align: right;\">\n",
              "      <th></th>\n",
              "      <th>Review</th>\n",
              "      <th>Rating</th>\n",
              "      <th>review_text_split</th>\n",
              "      <th>review_text_stopwords</th>\n",
              "      <th>stemmed_review</th>\n",
              "      <th>new_rating</th>\n",
              "    </tr>\n",
              "  </thead>\n",
              "  <tbody>\n",
              "    <tr>\n",
              "      <th>0</th>\n",
              "      <td>nice hotel expensive parking got good deal sta...</td>\n",
              "      <td>4</td>\n",
              "      <td>[nice, hotel, expensive, parking, got, good, d...</td>\n",
              "      <td>[nice, hotel, expensive, parking, got, good, d...</td>\n",
              "      <td>[nice, hotel, expens, park, got, good, deal, s...</td>\n",
              "      <td>Good</td>\n",
              "    </tr>\n",
              "    <tr>\n",
              "      <th>1</th>\n",
              "      <td>ok nothing special charge diamond member hilto...</td>\n",
              "      <td>2</td>\n",
              "      <td>[ok, nothing, special, charge, diamond, member...</td>\n",
              "      <td>[ok, nothing, special, charge, diamond, member...</td>\n",
              "      <td>[ok, noth, special, charg, diamond, member, hi...</td>\n",
              "      <td>Bad</td>\n",
              "    </tr>\n",
              "    <tr>\n",
              "      <th>2</th>\n",
              "      <td>nice rooms not 4* experience hotel monaco seat...</td>\n",
              "      <td>3</td>\n",
              "      <td>[nice, rooms, not, 4, experience, hotel, monac...</td>\n",
              "      <td>[nice, rooms, 4, experience, hotel, monaco, se...</td>\n",
              "      <td>[nice, room, 4, experi, hotel, monaco, seattl,...</td>\n",
              "      <td>Neutral</td>\n",
              "    </tr>\n",
              "    <tr>\n",
              "      <th>3</th>\n",
              "      <td>unique, great stay, wonderful time hotel monac...</td>\n",
              "      <td>5</td>\n",
              "      <td>[unique, great, stay, wonderful, time, hotel, ...</td>\n",
              "      <td>[unique, great, stay, wonderful, time, hotel, ...</td>\n",
              "      <td>[uniqu, great, stay, wonder, time, hotel, mona...</td>\n",
              "      <td>Good</td>\n",
              "    </tr>\n",
              "    <tr>\n",
              "      <th>4</th>\n",
              "      <td>great stay great stay, went seahawk game aweso...</td>\n",
              "      <td>5</td>\n",
              "      <td>[great, stay, great, stay, went, seahawk, game...</td>\n",
              "      <td>[great, stay, great, stay, went, seahawk, game...</td>\n",
              "      <td>[great, stay, great, stay, went, seahawk, game...</td>\n",
              "      <td>Good</td>\n",
              "    </tr>\n",
              "    <tr>\n",
              "      <th>...</th>\n",
              "      <td>...</td>\n",
              "      <td>...</td>\n",
              "      <td>...</td>\n",
              "      <td>...</td>\n",
              "      <td>...</td>\n",
              "      <td>...</td>\n",
              "    </tr>\n",
              "    <tr>\n",
              "      <th>995</th>\n",
              "      <td>average price hotel good location 1.5 blocks u...</td>\n",
              "      <td>3</td>\n",
              "      <td>[average, price, hotel, good, location, 1, 5, ...</td>\n",
              "      <td>[average, price, hotel, good, location, 1, 5, ...</td>\n",
              "      <td>[averag, price, hotel, good, locat, 1, 5, bloc...</td>\n",
              "      <td>Neutral</td>\n",
              "    </tr>\n",
              "    <tr>\n",
              "      <th>996</th>\n",
              "      <td>good customer service recently wrote dissatisf...</td>\n",
              "      <td>4</td>\n",
              "      <td>[good, customer, service, recently, wrote, dis...</td>\n",
              "      <td>[good, customer, service, recently, wrote, dis...</td>\n",
              "      <td>[good, custom, servic, recent, wrote, dissatis...</td>\n",
              "      <td>Good</td>\n",
              "    </tr>\n",
              "    <tr>\n",
              "      <th>997</th>\n",
              "      <td>ignore bad press just post review reading nega...</td>\n",
              "      <td>4</td>\n",
              "      <td>[ignore, bad, press, just, post, review, readi...</td>\n",
              "      <td>[ignore, bad, press, post, review, reading, ne...</td>\n",
              "      <td>[ignor, bad, press, post, review, read, negat,...</td>\n",
              "      <td>Good</td>\n",
              "    </tr>\n",
              "    <tr>\n",
              "      <th>998</th>\n",
              "      <td>business trip ok hotel fine evening business, ...</td>\n",
              "      <td>3</td>\n",
              "      <td>[business, trip, ok, hotel, fine, evening, bus...</td>\n",
              "      <td>[business, trip, ok, hotel, fine, evening, bus...</td>\n",
              "      <td>[busi, trip, ok, hotel, fine, even, busi, matt...</td>\n",
              "      <td>Neutral</td>\n",
              "    </tr>\n",
              "    <tr>\n",
              "      <th>999</th>\n",
              "      <td>okay downstairs medicore room overrated overpr...</td>\n",
              "      <td>3</td>\n",
              "      <td>[okay, downstairs, medicore, room, overrated, ...</td>\n",
              "      <td>[okay, downstairs, medicore, room, overrated, ...</td>\n",
              "      <td>[okay, downstair, medicor, room, overr, overpr...</td>\n",
              "      <td>Neutral</td>\n",
              "    </tr>\n",
              "  </tbody>\n",
              "</table>\n",
              "<p>1000 rows × 6 columns</p>\n",
              "</div>"
            ],
            "text/plain": [
              "                                                Review  ...  new_rating\n",
              "0    nice hotel expensive parking got good deal sta...  ...        Good\n",
              "1    ok nothing special charge diamond member hilto...  ...         Bad\n",
              "2    nice rooms not 4* experience hotel monaco seat...  ...     Neutral\n",
              "3    unique, great stay, wonderful time hotel monac...  ...        Good\n",
              "4    great stay great stay, went seahawk game aweso...  ...        Good\n",
              "..                                                 ...  ...         ...\n",
              "995  average price hotel good location 1.5 blocks u...  ...     Neutral\n",
              "996  good customer service recently wrote dissatisf...  ...        Good\n",
              "997  ignore bad press just post review reading nega...  ...        Good\n",
              "998  business trip ok hotel fine evening business, ...  ...     Neutral\n",
              "999  okay downstairs medicore room overrated overpr...  ...     Neutral\n",
              "\n",
              "[1000 rows x 6 columns]"
            ]
          },
          "metadata": {
            "tags": []
          },
          "execution_count": 55
        }
      ]
    },
    {
      "cell_type": "code",
      "metadata": {
        "colab": {
          "base_uri": "https://localhost:8080/",
          "height": 585
        },
        "id": "VAQKklDyAy5g",
        "outputId": "728e023d-9ab3-4ec4-8bf6-b368299c8cb0"
      },
      "source": [
        "df_hotel.tail(1000)"
      ],
      "execution_count": 56,
      "outputs": [
        {
          "output_type": "execute_result",
          "data": {
            "text/html": [
              "<div>\n",
              "<style scoped>\n",
              "    .dataframe tbody tr th:only-of-type {\n",
              "        vertical-align: middle;\n",
              "    }\n",
              "\n",
              "    .dataframe tbody tr th {\n",
              "        vertical-align: top;\n",
              "    }\n",
              "\n",
              "    .dataframe thead th {\n",
              "        text-align: right;\n",
              "    }\n",
              "</style>\n",
              "<table border=\"1\" class=\"dataframe\">\n",
              "  <thead>\n",
              "    <tr style=\"text-align: right;\">\n",
              "      <th></th>\n",
              "      <th>Review</th>\n",
              "      <th>Rating</th>\n",
              "      <th>review_text_split</th>\n",
              "      <th>review_text_stopwords</th>\n",
              "      <th>stemmed_review</th>\n",
              "      <th>new_rating</th>\n",
              "    </tr>\n",
              "  </thead>\n",
              "  <tbody>\n",
              "    <tr>\n",
              "      <th>19491</th>\n",
              "      <td>mixed reviews accurate just returned week stay...</td>\n",
              "      <td>3</td>\n",
              "      <td>[mixed, reviews, accurate, just, returned, wee...</td>\n",
              "      <td>[mixed, reviews, accurate, returned, week, sta...</td>\n",
              "      <td>[mix, review, accur, return, week, stay, riu, ...</td>\n",
              "      <td>Neutral</td>\n",
              "    </tr>\n",
              "    <tr>\n",
              "      <th>19492</th>\n",
              "      <td>true paradise just came dream vacation, excell...</td>\n",
              "      <td>5</td>\n",
              "      <td>[true, paradise, just, came, dream, vacation, ...</td>\n",
              "      <td>[true, paradise, came, dream, vacation, excell...</td>\n",
              "      <td>[true, paradis, came, dream, vacat, excel, beg...</td>\n",
              "      <td>Good</td>\n",
              "    </tr>\n",
              "    <tr>\n",
              "      <th>19493</th>\n",
              "      <td>absolutely wonderful happy resort recommend, r...</td>\n",
              "      <td>5</td>\n",
              "      <td>[absolutely, wonderful, happy, resort, recomme...</td>\n",
              "      <td>[absolutely, wonderful, happy, resort, recomme...</td>\n",
              "      <td>[absolut, wonder, happi, resort, recommend, re...</td>\n",
              "      <td>Good</td>\n",
              "    </tr>\n",
              "    <tr>\n",
              "      <th>19494</th>\n",
              "      <td>4 days paradise food drink sun poker returned ...</td>\n",
              "      <td>4</td>\n",
              "      <td>[4, days, paradise, food, drink, sun, poker, r...</td>\n",
              "      <td>[4, days, paradise, food, drink, sun, poker, r...</td>\n",
              "      <td>[4, day, paradis, food, drink, sun, poker, ret...</td>\n",
              "      <td>Good</td>\n",
              "    </tr>\n",
              "    <tr>\n",
              "      <th>19495</th>\n",
              "      <td>enjoyed palace home week following wonderful h...</td>\n",
              "      <td>4</td>\n",
              "      <td>[enjoyed, palace, home, week, following, wonde...</td>\n",
              "      <td>[enjoyed, palace, home, week, following, wonde...</td>\n",
              "      <td>[enjoy, palac, home, week, follow, wonder, hol...</td>\n",
              "      <td>Good</td>\n",
              "    </tr>\n",
              "    <tr>\n",
              "      <th>...</th>\n",
              "      <td>...</td>\n",
              "      <td>...</td>\n",
              "      <td>...</td>\n",
              "      <td>...</td>\n",
              "      <td>...</td>\n",
              "      <td>...</td>\n",
              "    </tr>\n",
              "    <tr>\n",
              "      <th>20486</th>\n",
              "      <td>best kept secret 3rd time staying charm, not 5...</td>\n",
              "      <td>5</td>\n",
              "      <td>[best, kept, secret, 3rd, time, staying, charm...</td>\n",
              "      <td>[best, kept, secret, 3rd, time, staying, charm...</td>\n",
              "      <td>[best, kept, secret, 3rd, time, stay, charm, 5...</td>\n",
              "      <td>Good</td>\n",
              "    </tr>\n",
              "    <tr>\n",
              "      <th>20487</th>\n",
              "      <td>great location price view hotel great quick pl...</td>\n",
              "      <td>4</td>\n",
              "      <td>[great, location, price, view, hotel, great, q...</td>\n",
              "      <td>[great, location, price, view, hotel, great, q...</td>\n",
              "      <td>[great, locat, price, view, hotel, great, quic...</td>\n",
              "      <td>Good</td>\n",
              "    </tr>\n",
              "    <tr>\n",
              "      <th>20488</th>\n",
              "      <td>ok just looks nice modern outside, desk staff ...</td>\n",
              "      <td>2</td>\n",
              "      <td>[ok, just, looks, nice, modern, outside, desk,...</td>\n",
              "      <td>[ok, looks, nice, modern, outside, desk, staff...</td>\n",
              "      <td>[ok, look, nice, modern, outsid, desk, staff, ...</td>\n",
              "      <td>Bad</td>\n",
              "    </tr>\n",
              "    <tr>\n",
              "      <th>20489</th>\n",
              "      <td>hotel theft ruined vacation hotel opened sept ...</td>\n",
              "      <td>1</td>\n",
              "      <td>[hotel, theft, ruined, vacation, hotel, opened...</td>\n",
              "      <td>[hotel, theft, ruined, vacation, hotel, opened...</td>\n",
              "      <td>[hotel, theft, ruin, vacat, hotel, open, sept,...</td>\n",
              "      <td>Bad</td>\n",
              "    </tr>\n",
              "    <tr>\n",
              "      <th>20490</th>\n",
              "      <td>people talking, ca n't believe excellent ratin...</td>\n",
              "      <td>2</td>\n",
              "      <td>[people, talking, ca, n, t, believe, excellent...</td>\n",
              "      <td>[people, talking, ca, n, believe, excellent, r...</td>\n",
              "      <td>[peopl, talk, ca, n, believ, excel, rate, hote...</td>\n",
              "      <td>Bad</td>\n",
              "    </tr>\n",
              "  </tbody>\n",
              "</table>\n",
              "<p>1000 rows × 6 columns</p>\n",
              "</div>"
            ],
            "text/plain": [
              "                                                  Review  ...  new_rating\n",
              "19491  mixed reviews accurate just returned week stay...  ...     Neutral\n",
              "19492  true paradise just came dream vacation, excell...  ...        Good\n",
              "19493  absolutely wonderful happy resort recommend, r...  ...        Good\n",
              "19494  4 days paradise food drink sun poker returned ...  ...        Good\n",
              "19495  enjoyed palace home week following wonderful h...  ...        Good\n",
              "...                                                  ...  ...         ...\n",
              "20486  best kept secret 3rd time staying charm, not 5...  ...        Good\n",
              "20487  great location price view hotel great quick pl...  ...        Good\n",
              "20488  ok just looks nice modern outside, desk staff ...  ...         Bad\n",
              "20489  hotel theft ruined vacation hotel opened sept ...  ...         Bad\n",
              "20490  people talking, ca n't believe excellent ratin...  ...         Bad\n",
              "\n",
              "[1000 rows x 6 columns]"
            ]
          },
          "metadata": {
            "tags": []
          },
          "execution_count": 56
        }
      ]
    },
    {
      "cell_type": "code",
      "metadata": {
        "id": "KwGKeljkeC6G",
        "colab": {
          "base_uri": "https://localhost:8080/",
          "height": 635
        },
        "outputId": "90ca8eb2-08d3-4c76-d18c-46230f52b9fd"
      },
      "source": [
        "rating_category = pd.get_dummies(df_hotel.new_rating)\n",
        "df_baru = pd.concat([df_hotel, rating_category], axis=1)\n",
        "df_baru = df_baru.drop(columns='Rating')\n",
        "df_baru"
      ],
      "execution_count": 57,
      "outputs": [
        {
          "output_type": "execute_result",
          "data": {
            "text/html": [
              "<div>\n",
              "<style scoped>\n",
              "    .dataframe tbody tr th:only-of-type {\n",
              "        vertical-align: middle;\n",
              "    }\n",
              "\n",
              "    .dataframe tbody tr th {\n",
              "        vertical-align: top;\n",
              "    }\n",
              "\n",
              "    .dataframe thead th {\n",
              "        text-align: right;\n",
              "    }\n",
              "</style>\n",
              "<table border=\"1\" class=\"dataframe\">\n",
              "  <thead>\n",
              "    <tr style=\"text-align: right;\">\n",
              "      <th></th>\n",
              "      <th>Review</th>\n",
              "      <th>review_text_split</th>\n",
              "      <th>review_text_stopwords</th>\n",
              "      <th>stemmed_review</th>\n",
              "      <th>new_rating</th>\n",
              "      <th>Bad</th>\n",
              "      <th>Good</th>\n",
              "      <th>Neutral</th>\n",
              "    </tr>\n",
              "  </thead>\n",
              "  <tbody>\n",
              "    <tr>\n",
              "      <th>0</th>\n",
              "      <td>nice hotel expensive parking got good deal sta...</td>\n",
              "      <td>[nice, hotel, expensive, parking, got, good, d...</td>\n",
              "      <td>[nice, hotel, expensive, parking, got, good, d...</td>\n",
              "      <td>[nice, hotel, expens, park, got, good, deal, s...</td>\n",
              "      <td>Good</td>\n",
              "      <td>0</td>\n",
              "      <td>1</td>\n",
              "      <td>0</td>\n",
              "    </tr>\n",
              "    <tr>\n",
              "      <th>1</th>\n",
              "      <td>ok nothing special charge diamond member hilto...</td>\n",
              "      <td>[ok, nothing, special, charge, diamond, member...</td>\n",
              "      <td>[ok, nothing, special, charge, diamond, member...</td>\n",
              "      <td>[ok, noth, special, charg, diamond, member, hi...</td>\n",
              "      <td>Bad</td>\n",
              "      <td>1</td>\n",
              "      <td>0</td>\n",
              "      <td>0</td>\n",
              "    </tr>\n",
              "    <tr>\n",
              "      <th>2</th>\n",
              "      <td>nice rooms not 4* experience hotel monaco seat...</td>\n",
              "      <td>[nice, rooms, not, 4, experience, hotel, monac...</td>\n",
              "      <td>[nice, rooms, 4, experience, hotel, monaco, se...</td>\n",
              "      <td>[nice, room, 4, experi, hotel, monaco, seattl,...</td>\n",
              "      <td>Neutral</td>\n",
              "      <td>0</td>\n",
              "      <td>0</td>\n",
              "      <td>1</td>\n",
              "    </tr>\n",
              "    <tr>\n",
              "      <th>3</th>\n",
              "      <td>unique, great stay, wonderful time hotel monac...</td>\n",
              "      <td>[unique, great, stay, wonderful, time, hotel, ...</td>\n",
              "      <td>[unique, great, stay, wonderful, time, hotel, ...</td>\n",
              "      <td>[uniqu, great, stay, wonder, time, hotel, mona...</td>\n",
              "      <td>Good</td>\n",
              "      <td>0</td>\n",
              "      <td>1</td>\n",
              "      <td>0</td>\n",
              "    </tr>\n",
              "    <tr>\n",
              "      <th>4</th>\n",
              "      <td>great stay great stay, went seahawk game aweso...</td>\n",
              "      <td>[great, stay, great, stay, went, seahawk, game...</td>\n",
              "      <td>[great, stay, great, stay, went, seahawk, game...</td>\n",
              "      <td>[great, stay, great, stay, went, seahawk, game...</td>\n",
              "      <td>Good</td>\n",
              "      <td>0</td>\n",
              "      <td>1</td>\n",
              "      <td>0</td>\n",
              "    </tr>\n",
              "    <tr>\n",
              "      <th>...</th>\n",
              "      <td>...</td>\n",
              "      <td>...</td>\n",
              "      <td>...</td>\n",
              "      <td>...</td>\n",
              "      <td>...</td>\n",
              "      <td>...</td>\n",
              "      <td>...</td>\n",
              "      <td>...</td>\n",
              "    </tr>\n",
              "    <tr>\n",
              "      <th>20486</th>\n",
              "      <td>best kept secret 3rd time staying charm, not 5...</td>\n",
              "      <td>[best, kept, secret, 3rd, time, staying, charm...</td>\n",
              "      <td>[best, kept, secret, 3rd, time, staying, charm...</td>\n",
              "      <td>[best, kept, secret, 3rd, time, stay, charm, 5...</td>\n",
              "      <td>Good</td>\n",
              "      <td>0</td>\n",
              "      <td>1</td>\n",
              "      <td>0</td>\n",
              "    </tr>\n",
              "    <tr>\n",
              "      <th>20487</th>\n",
              "      <td>great location price view hotel great quick pl...</td>\n",
              "      <td>[great, location, price, view, hotel, great, q...</td>\n",
              "      <td>[great, location, price, view, hotel, great, q...</td>\n",
              "      <td>[great, locat, price, view, hotel, great, quic...</td>\n",
              "      <td>Good</td>\n",
              "      <td>0</td>\n",
              "      <td>1</td>\n",
              "      <td>0</td>\n",
              "    </tr>\n",
              "    <tr>\n",
              "      <th>20488</th>\n",
              "      <td>ok just looks nice modern outside, desk staff ...</td>\n",
              "      <td>[ok, just, looks, nice, modern, outside, desk,...</td>\n",
              "      <td>[ok, looks, nice, modern, outside, desk, staff...</td>\n",
              "      <td>[ok, look, nice, modern, outsid, desk, staff, ...</td>\n",
              "      <td>Bad</td>\n",
              "      <td>1</td>\n",
              "      <td>0</td>\n",
              "      <td>0</td>\n",
              "    </tr>\n",
              "    <tr>\n",
              "      <th>20489</th>\n",
              "      <td>hotel theft ruined vacation hotel opened sept ...</td>\n",
              "      <td>[hotel, theft, ruined, vacation, hotel, opened...</td>\n",
              "      <td>[hotel, theft, ruined, vacation, hotel, opened...</td>\n",
              "      <td>[hotel, theft, ruin, vacat, hotel, open, sept,...</td>\n",
              "      <td>Bad</td>\n",
              "      <td>1</td>\n",
              "      <td>0</td>\n",
              "      <td>0</td>\n",
              "    </tr>\n",
              "    <tr>\n",
              "      <th>20490</th>\n",
              "      <td>people talking, ca n't believe excellent ratin...</td>\n",
              "      <td>[people, talking, ca, n, t, believe, excellent...</td>\n",
              "      <td>[people, talking, ca, n, believe, excellent, r...</td>\n",
              "      <td>[peopl, talk, ca, n, believ, excel, rate, hote...</td>\n",
              "      <td>Bad</td>\n",
              "      <td>1</td>\n",
              "      <td>0</td>\n",
              "      <td>0</td>\n",
              "    </tr>\n",
              "  </tbody>\n",
              "</table>\n",
              "<p>20491 rows × 8 columns</p>\n",
              "</div>"
            ],
            "text/plain": [
              "                                                  Review  ... Neutral\n",
              "0      nice hotel expensive parking got good deal sta...  ...       0\n",
              "1      ok nothing special charge diamond member hilto...  ...       0\n",
              "2      nice rooms not 4* experience hotel monaco seat...  ...       1\n",
              "3      unique, great stay, wonderful time hotel monac...  ...       0\n",
              "4      great stay great stay, went seahawk game aweso...  ...       0\n",
              "...                                                  ...  ...     ...\n",
              "20486  best kept secret 3rd time staying charm, not 5...  ...       0\n",
              "20487  great location price view hotel great quick pl...  ...       0\n",
              "20488  ok just looks nice modern outside, desk staff ...  ...       0\n",
              "20489  hotel theft ruined vacation hotel opened sept ...  ...       0\n",
              "20490  people talking, ca n't believe excellent ratin...  ...       0\n",
              "\n",
              "[20491 rows x 8 columns]"
            ]
          },
          "metadata": {
            "tags": []
          },
          "execution_count": 57
        }
      ]
    },
    {
      "cell_type": "code",
      "metadata": {
        "id": "Dnta2qX42gkR",
        "colab": {
          "base_uri": "https://localhost:8080/"
        },
        "outputId": "f18d5dd2-a325-4390-eed6-1e277d983362"
      },
      "source": [
        "df_baru.dtypes"
      ],
      "execution_count": 58,
      "outputs": [
        {
          "output_type": "execute_result",
          "data": {
            "text/plain": [
              "Review                   object\n",
              "review_text_split        object\n",
              "review_text_stopwords    object\n",
              "stemmed_review           object\n",
              "new_rating               object\n",
              "Bad                       uint8\n",
              "Good                      uint8\n",
              "Neutral                   uint8\n",
              "dtype: object"
            ]
          },
          "metadata": {
            "tags": []
          },
          "execution_count": 58
        }
      ]
    },
    {
      "cell_type": "code",
      "metadata": {
        "id": "DCS6uL7fZb3m",
        "colab": {
          "base_uri": "https://localhost:8080/"
        },
        "outputId": "d9be7033-d0c2-4670-e574-92678367fbbc"
      },
      "source": [
        "review = df_baru['stemmed_review'].values\n",
        "label = df_baru[['Bad','Good','Neutral']].values\n",
        "label"
      ],
      "execution_count": 59,
      "outputs": [
        {
          "output_type": "execute_result",
          "data": {
            "text/plain": [
              "array([[0, 1, 0],\n",
              "       [1, 0, 0],\n",
              "       [0, 0, 1],\n",
              "       ...,\n",
              "       [1, 0, 0],\n",
              "       [1, 0, 0],\n",
              "       [1, 0, 0]], dtype=uint8)"
            ]
          },
          "metadata": {
            "tags": []
          },
          "execution_count": 59
        }
      ]
    },
    {
      "cell_type": "code",
      "metadata": {
        "colab": {
          "base_uri": "https://localhost:8080/"
        },
        "id": "9RGeVqcxwnen",
        "outputId": "6b8f0131-5be6-4246-83d8-cb13d963b71f"
      },
      "source": [
        "print(review.shape, label.shape)"
      ],
      "execution_count": 60,
      "outputs": [
        {
          "output_type": "stream",
          "text": [
            "(20491,) (20491, 3)\n"
          ],
          "name": "stdout"
        }
      ]
    },
    {
      "cell_type": "code",
      "metadata": {
        "id": "S_1V7cJ5Zk01"
      },
      "source": [
        "from sklearn.model_selection import train_test_split\n",
        "review_train, review_test,label_train, label_test = train_test_split(review, label, test_size=0.2, shuffle=False)"
      ],
      "execution_count": 61,
      "outputs": []
    },
    {
      "cell_type": "code",
      "metadata": {
        "id": "CBbJRitzYv6b"
      },
      "source": [
        "from tensorflow.keras.preprocessing.text import Tokenizer\n",
        "from tensorflow.keras.preprocessing.sequence import pad_sequences\n",
        "     \n",
        "tokenizer = Tokenizer(num_words=10000, oov_token='x')\n",
        "tokenizer.fit_on_texts(review_train)\n",
        "tokenizer.fit_on_texts(review_test)\n",
        "     \n",
        "sequence_train = tokenizer.texts_to_sequences(review_train)\n",
        "sequence_test = tokenizer.texts_to_sequences(review_test)\n",
        "\n",
        "padded_train = pad_sequences(sequence_train)\n",
        "padded_test = pad_sequences(sequence_test)"
      ],
      "execution_count": 62,
      "outputs": []
    },
    {
      "cell_type": "code",
      "metadata": {
        "id": "1ukWFwaqaWRv"
      },
      "source": [
        "model = tf.keras.Sequential([\n",
        "     tf.keras.layers.Embedding(input_dim=50000, output_dim=16),\n",
        "     tf.keras.layers.BatchNormalization(),\n",
        "     tf.keras.layers.Dropout(0.2),\n",
        "     tf.keras.layers.LSTM(128),\n",
        "     tf.keras.layers.Dense(128, activation='relu'),\n",
        "     tf.keras.layers.Dropout(0.5),\n",
        "     tf.keras.layers.Dense(128, activation='relu'),\n",
        "     tf.keras.layers.Dropout(0.5),\n",
        "     tf.keras.layers.Dense(3, activation='softmax')\n",
        "     ])\n",
        "model.compile(loss='categorical_crossentropy',optimizer='rmsprop',metrics=['accuracy'])"
      ],
      "execution_count": 63,
      "outputs": []
    },
    {
      "cell_type": "code",
      "metadata": {
        "colab": {
          "base_uri": "https://localhost:8080/"
        },
        "id": "wiNi3O_KaYDz",
        "outputId": "f63e9c0f-c9cc-492c-d497-1abcb6f52588"
      },
      "source": [
        "num_epochs = 100\n",
        "class callBack(tf.keras.callbacks.Callback):\n",
        "    def on_epoch_end(self, epoch, logs={}):\n",
        "      if(logs.get('val_accuracy') > 0.85 and logs.get('accuracy') > 0.85):\n",
        "        self.model.stop_training = True\n",
        "\n",
        "callbacks = callBack()\n",
        "history = model.fit(padded_train, label_train, batch_size=128, epochs=num_epochs, callbacks=[callbacks], validation_data=(padded_test, label_test), verbose=2)"
      ],
      "execution_count": 64,
      "outputs": [
        {
          "output_type": "stream",
          "text": [
            "Epoch 1/100\n",
            "129/129 - 19s - loss: 0.6986 - accuracy: 0.7388 - val_loss: 0.7527 - val_accuracy: 0.7717\n",
            "Epoch 2/100\n",
            "129/129 - 17s - loss: 0.5117 - accuracy: 0.8167 - val_loss: 0.5996 - val_accuracy: 0.8029\n",
            "Epoch 3/100\n",
            "129/129 - 17s - loss: 0.4485 - accuracy: 0.8338 - val_loss: 0.4536 - val_accuracy: 0.8404\n",
            "Epoch 4/100\n",
            "129/129 - 17s - loss: 0.3912 - accuracy: 0.8510 - val_loss: 0.6288 - val_accuracy: 0.8497\n",
            "Epoch 5/100\n",
            "129/129 - 17s - loss: 0.3678 - accuracy: 0.8579 - val_loss: 0.4591 - val_accuracy: 0.8624\n"
          ],
          "name": "stdout"
        }
      ]
    },
    {
      "cell_type": "code",
      "metadata": {
        "colab": {
          "base_uri": "https://localhost:8080/",
          "height": 295
        },
        "id": "iUIsUayFJnzN",
        "outputId": "f0fa3487-3598-40b1-fa29-b19eb0a92b75"
      },
      "source": [
        "plt.plot(history.history['loss'])\n",
        "plt.plot(history.history['val_loss'])\n",
        "plt.title('Model loss')\n",
        "plt.ylabel('Loss')\n",
        "plt.xlabel('Epoch')\n",
        "plt.legend(['Train', 'Test'], loc='upper right')\n",
        "plt.show()"
      ],
      "execution_count": 65,
      "outputs": [
        {
          "output_type": "display_data",
          "data": {
            "image/png": "[encoded data removed]",
            "text/plain": [
              "<Figure size 432x288 with 1 Axes>"
            ]
          },
          "metadata": {
            "tags": [],
            "needs_background": "light"
          }
        }
      ]
    },
    {
      "cell_type": "code",
      "metadata": {
        "colab": {
          "base_uri": "https://localhost:8080/",
          "height": 295
        },
        "id": "m_6Z-6uSuWj-",
        "outputId": "73744908-9295-4bea-b304-d6c4cd530dd3"
      },
      "source": [
        "plt.plot(history.history['accuracy'])\n",
        "plt.plot(history.history['val_accuracy'])\n",
        "plt.title('Model accuracy')\n",
        "plt.ylabel('Accuracy')\n",
        "plt.xlabel('Epoch')\n",
        "plt.legend(['Train', 'Test'], loc='lower right')\n",
        "plt.show()"
      ],
      "execution_count": 66,
      "outputs": [
        {
          "output_type": "display_data",
          "data": {
            "image/png": "[encoded data removed]",
            "text/plain": [
              "<Figure size 432x288 with 1 Axes>"
            ]
          },
          "metadata": {
            "tags": [],
            "needs_background": "light"
          }
        }
      ]
    }
  ]
}